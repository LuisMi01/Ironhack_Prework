{
 "cells": [
  {
   "cell_type": "code",
   "execution_count": 3,
   "id": "173b8eff",
   "metadata": {},
   "outputs": [
    {
     "name": "stdout",
     "output_type": "stream",
     "text": [
      "Please enter an integer number: 3\n",
      "Please enter another integer number: 4\n"
     ]
    }
   ],
   "source": [
    "x1 = input(\"Please enter an integer number: \")\n",
    "x2 = input(\"Please enter another integer number: \")"
   ]
  },
  {
   "cell_type": "code",
   "execution_count": 7,
   "id": "cdfa64be",
   "metadata": {},
   "outputs": [
    {
     "name": "stdout",
     "output_type": "stream",
     "text": [
      "x2 es mayor\n"
     ]
    }
   ],
   "source": [
    "if x1>x2:\n",
    "    print(\"x1 es mayor\")\n",
    "elif x2>x1:\n",
    "    print(\"x2 es mayor\")\n"
   ]
  },
  {
   "cell_type": "code",
   "execution_count": 4,
   "id": "a6efed72",
   "metadata": {},
   "outputs": [],
   "source": [
    "x1 = int (x1)\n",
    "x2 = int (x2)"
   ]
  },
  {
   "cell_type": "code",
   "execution_count": 10,
   "id": "9bc5f182",
   "metadata": {},
   "outputs": [
    {
     "name": "stdout",
     "output_type": "stream",
     "text": [
      "No son iguales\n"
     ]
    }
   ],
   "source": [
    "if x1!=x2:\n",
    "    print(\"No son iguales\")\n",
    "elif x1 == x2:\n",
    "    print(\"Son iguales\")"
   ]
  },
  {
   "cell_type": "code",
   "execution_count": 11,
   "id": "e544f415",
   "metadata": {},
   "outputs": [
    {
     "name": "stdout",
     "output_type": "stream",
     "text": [
      "x3 es =  1\n"
     ]
    }
   ],
   "source": [
    "if x1>x2:\n",
    "    x3 = x1-x2\n",
    "    print(\"x3 es = \", x3)\n",
    "elif x2>x1:\n",
    "    x3 = x2-x1\n",
    "    print(\"x3 es = \", x3)\n"
   ]
  },
  {
   "cell_type": "code",
   "execution_count": null,
   "id": "e6920471",
   "metadata": {},
   "outputs": [],
   "source": [
    "if x1>x2:\n",
    "    x2 = x2 + x3\n",
    "elif x2>x1:\n",
    "    x1 = x3+x1\n",
    "elif x1 == x2:\n",
    "    print(\"Son iguales\")\n",
    "elif x1!=x2:\n",
    "    print(\"No son iguales\")"
   ]
  },
  {
   "cell_type": "code",
   "execution_count": null,
   "id": "749f164c",
   "metadata": {},
   "outputs": [],
   "source": []
  }
 ],
 "metadata": {
  "kernelspec": {
   "display_name": "Python 3 (ipykernel)",
   "language": "python",
   "name": "python3"
  },
  "language_info": {
   "codemirror_mode": {
    "name": "ipython",
    "version": 3
   },
   "file_extension": ".py",
   "mimetype": "text/x-python",
   "name": "python",
   "nbconvert_exporter": "python",
   "pygments_lexer": "ipython3",
   "version": "3.9.13"
  }
 },
 "nbformat": 4,
 "nbformat_minor": 5
}
